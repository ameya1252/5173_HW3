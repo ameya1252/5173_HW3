{
  "nbformat": 4,
  "nbformat_minor": 0,
  "metadata": {
    "colab": {
      "provenance": [],
      "gpuType": "T4",
      "authorship_tag": "ABX9TyOf3gvsCAcPpC53169h1h0z",
      "include_colab_link": true
    },
    "kernelspec": {
      "name": "python3",
      "display_name": "Python 3"
    },
    "language_info": {
      "name": "python"
    },
    "accelerator": "GPU"
  },
  "cells": [
    {
      "cell_type": "markdown",
      "metadata": {
        "id": "view-in-github",
        "colab_type": "text"
      },
      "source": [
        "<a href=\"https://colab.research.google.com/github/ameya1252/5173_HW3/blob/main/hw3_4layers_wonorm.ipynb\" target=\"_parent\"><img src=\"https://colab.research.google.com/assets/colab-badge.svg\" alt=\"Open In Colab\"/></a>"
      ]
    },
    {
      "cell_type": "code",
      "execution_count": 1,
      "metadata": {
        "colab": {
          "base_uri": "https://localhost:8080/",
          "height": 73
        },
        "id": "mHtfNZASUCdT",
        "outputId": "8e81e4cd-27e6-44b1-f5d2-f8da6974240e"
      },
      "outputs": [
        {
          "output_type": "display_data",
          "data": {
            "text/plain": [
              "<IPython.core.display.HTML object>"
            ],
            "text/html": [
              "\n",
              "     <input type=\"file\" id=\"files-642a4d41-d10c-4bd4-85da-42d5a4657c82\" name=\"files[]\" multiple disabled\n",
              "        style=\"border:none\" />\n",
              "     <output id=\"result-642a4d41-d10c-4bd4-85da-42d5a4657c82\">\n",
              "      Upload widget is only available when the cell has been executed in the\n",
              "      current browser session. Please rerun this cell to enable.\n",
              "      </output>\n",
              "      <script>// Copyright 2017 Google LLC\n",
              "//\n",
              "// Licensed under the Apache License, Version 2.0 (the \"License\");\n",
              "// you may not use this file except in compliance with the License.\n",
              "// You may obtain a copy of the License at\n",
              "//\n",
              "//      http://www.apache.org/licenses/LICENSE-2.0\n",
              "//\n",
              "// Unless required by applicable law or agreed to in writing, software\n",
              "// distributed under the License is distributed on an \"AS IS\" BASIS,\n",
              "// WITHOUT WARRANTIES OR CONDITIONS OF ANY KIND, either express or implied.\n",
              "// See the License for the specific language governing permissions and\n",
              "// limitations under the License.\n",
              "\n",
              "/**\n",
              " * @fileoverview Helpers for google.colab Python module.\n",
              " */\n",
              "(function(scope) {\n",
              "function span(text, styleAttributes = {}) {\n",
              "  const element = document.createElement('span');\n",
              "  element.textContent = text;\n",
              "  for (const key of Object.keys(styleAttributes)) {\n",
              "    element.style[key] = styleAttributes[key];\n",
              "  }\n",
              "  return element;\n",
              "}\n",
              "\n",
              "// Max number of bytes which will be uploaded at a time.\n",
              "const MAX_PAYLOAD_SIZE = 100 * 1024;\n",
              "\n",
              "function _uploadFiles(inputId, outputId) {\n",
              "  const steps = uploadFilesStep(inputId, outputId);\n",
              "  const outputElement = document.getElementById(outputId);\n",
              "  // Cache steps on the outputElement to make it available for the next call\n",
              "  // to uploadFilesContinue from Python.\n",
              "  outputElement.steps = steps;\n",
              "\n",
              "  return _uploadFilesContinue(outputId);\n",
              "}\n",
              "\n",
              "// This is roughly an async generator (not supported in the browser yet),\n",
              "// where there are multiple asynchronous steps and the Python side is going\n",
              "// to poll for completion of each step.\n",
              "// This uses a Promise to block the python side on completion of each step,\n",
              "// then passes the result of the previous step as the input to the next step.\n",
              "function _uploadFilesContinue(outputId) {\n",
              "  const outputElement = document.getElementById(outputId);\n",
              "  const steps = outputElement.steps;\n",
              "\n",
              "  const next = steps.next(outputElement.lastPromiseValue);\n",
              "  return Promise.resolve(next.value.promise).then((value) => {\n",
              "    // Cache the last promise value to make it available to the next\n",
              "    // step of the generator.\n",
              "    outputElement.lastPromiseValue = value;\n",
              "    return next.value.response;\n",
              "  });\n",
              "}\n",
              "\n",
              "/**\n",
              " * Generator function which is called between each async step of the upload\n",
              " * process.\n",
              " * @param {string} inputId Element ID of the input file picker element.\n",
              " * @param {string} outputId Element ID of the output display.\n",
              " * @return {!Iterable<!Object>} Iterable of next steps.\n",
              " */\n",
              "function* uploadFilesStep(inputId, outputId) {\n",
              "  const inputElement = document.getElementById(inputId);\n",
              "  inputElement.disabled = false;\n",
              "\n",
              "  const outputElement = document.getElementById(outputId);\n",
              "  outputElement.innerHTML = '';\n",
              "\n",
              "  const pickedPromise = new Promise((resolve) => {\n",
              "    inputElement.addEventListener('change', (e) => {\n",
              "      resolve(e.target.files);\n",
              "    });\n",
              "  });\n",
              "\n",
              "  const cancel = document.createElement('button');\n",
              "  inputElement.parentElement.appendChild(cancel);\n",
              "  cancel.textContent = 'Cancel upload';\n",
              "  const cancelPromise = new Promise((resolve) => {\n",
              "    cancel.onclick = () => {\n",
              "      resolve(null);\n",
              "    };\n",
              "  });\n",
              "\n",
              "  // Wait for the user to pick the files.\n",
              "  const files = yield {\n",
              "    promise: Promise.race([pickedPromise, cancelPromise]),\n",
              "    response: {\n",
              "      action: 'starting',\n",
              "    }\n",
              "  };\n",
              "\n",
              "  cancel.remove();\n",
              "\n",
              "  // Disable the input element since further picks are not allowed.\n",
              "  inputElement.disabled = true;\n",
              "\n",
              "  if (!files) {\n",
              "    return {\n",
              "      response: {\n",
              "        action: 'complete',\n",
              "      }\n",
              "    };\n",
              "  }\n",
              "\n",
              "  for (const file of files) {\n",
              "    const li = document.createElement('li');\n",
              "    li.append(span(file.name, {fontWeight: 'bold'}));\n",
              "    li.append(span(\n",
              "        `(${file.type || 'n/a'}) - ${file.size} bytes, ` +\n",
              "        `last modified: ${\n",
              "            file.lastModifiedDate ? file.lastModifiedDate.toLocaleDateString() :\n",
              "                                    'n/a'} - `));\n",
              "    const percent = span('0% done');\n",
              "    li.appendChild(percent);\n",
              "\n",
              "    outputElement.appendChild(li);\n",
              "\n",
              "    const fileDataPromise = new Promise((resolve) => {\n",
              "      const reader = new FileReader();\n",
              "      reader.onload = (e) => {\n",
              "        resolve(e.target.result);\n",
              "      };\n",
              "      reader.readAsArrayBuffer(file);\n",
              "    });\n",
              "    // Wait for the data to be ready.\n",
              "    let fileData = yield {\n",
              "      promise: fileDataPromise,\n",
              "      response: {\n",
              "        action: 'continue',\n",
              "      }\n",
              "    };\n",
              "\n",
              "    // Use a chunked sending to avoid message size limits. See b/62115660.\n",
              "    let position = 0;\n",
              "    do {\n",
              "      const length = Math.min(fileData.byteLength - position, MAX_PAYLOAD_SIZE);\n",
              "      const chunk = new Uint8Array(fileData, position, length);\n",
              "      position += length;\n",
              "\n",
              "      const base64 = btoa(String.fromCharCode.apply(null, chunk));\n",
              "      yield {\n",
              "        response: {\n",
              "          action: 'append',\n",
              "          file: file.name,\n",
              "          data: base64,\n",
              "        },\n",
              "      };\n",
              "\n",
              "      let percentDone = fileData.byteLength === 0 ?\n",
              "          100 :\n",
              "          Math.round((position / fileData.byteLength) * 100);\n",
              "      percent.textContent = `${percentDone}% done`;\n",
              "\n",
              "    } while (position < fileData.byteLength);\n",
              "  }\n",
              "\n",
              "  // All done.\n",
              "  yield {\n",
              "    response: {\n",
              "      action: 'complete',\n",
              "    }\n",
              "  };\n",
              "}\n",
              "\n",
              "scope.google = scope.google || {};\n",
              "scope.google.colab = scope.google.colab || {};\n",
              "scope.google.colab._files = {\n",
              "  _uploadFiles,\n",
              "  _uploadFilesContinue,\n",
              "};\n",
              "})(self);\n",
              "</script> "
            ]
          },
          "metadata": {}
        },
        {
          "output_type": "stream",
          "name": "stdout",
          "text": [
            "Saving Data.zip to Data.zip\n"
          ]
        }
      ],
      "source": [
        " from google.colab import files\n",
        "\n",
        "# Upload a zip file containing data folders\n",
        "uploaded = files.upload()\n"
      ]
    },
    {
      "cell_type": "code",
      "source": [
        "import tensorflow as tf\n",
        "from tensorflow.keras.layers import Input, Conv2D, MaxPooling2D, UpSampling2D, concatenate, BatchNormalization, Dropout\n",
        "from tensorflow.keras.models import Model\n",
        "from tensorflow.keras.optimizers import Adam\n",
        "import numpy as np\n",
        "import matplotlib.pyplot as plt\n",
        "import os\n",
        "import zipfile\n",
        "from tensorflow.keras import backend as K"
      ],
      "metadata": {
        "id": "M-idVjlQUF7e"
      },
      "execution_count": 2,
      "outputs": []
    },
    {
      "cell_type": "code",
      "source": [
        "\n",
        "# Specify the name of the uploaded zip file\n",
        "zip_filename = \"Data.zip\"\n",
        "\n",
        "# Extract the contents to a specific directory (e.g., /content/data)\n",
        "extract_path = \"/content/data\"\n",
        "\n",
        "# Unzip the file\n",
        "with zipfile.ZipFile(zip_filename, 'r') as zip_ref:\n",
        "    zip_ref.extractall(extract_path)\n"
      ],
      "metadata": {
        "id": "wngPDV2RUF_U"
      },
      "execution_count": 3,
      "outputs": []
    },
    {
      "cell_type": "code",
      "source": [
        "BASE_PATH = \"/content/data/Data\"\n",
        "\n",
        "def load_data(data_type=\"train\"):\n",
        "    images = []\n",
        "    masks = []\n",
        "\n",
        "    # Paths\n",
        "    image_path = os.path.join(BASE_PATH, data_type, \"image\")\n",
        "    mask_path = os.path.join(BASE_PATH, data_type, \"mask\")\n",
        "\n",
        "    for filename in sorted(os.listdir(image_path)):\n",
        "        if not filename.endswith('.png'):  # Adjust if your images have a different extension\n",
        "            continue\n",
        "\n",
        "        # Read Image\n",
        "        img = tf.io.read_file(os.path.join(image_path, filename))\n",
        "        img = tf.image.decode_png(img, channels=1)\n",
        "        images.append(img)\n",
        "\n",
        "        # Read corresponding mask\n",
        "        mask = tf.io.read_file(os.path.join(mask_path, filename))\n",
        "        mask = tf.image.decode_png(mask, channels=1)\n",
        "        masks.append(mask)\n",
        "\n",
        "    return tf.stack(images), tf.stack(masks)\n",
        "\n",
        "# Load Training and Test Data\n",
        "train_images, train_masks = load_data(data_type=\"train\")\n",
        "test_images, test_masks = load_data(data_type=\"test\")\n"
      ],
      "metadata": {
        "id": "dG3SWHAgUGBU"
      },
      "execution_count": 4,
      "outputs": []
    },
    {
      "cell_type": "code",
      "source": [
        "# U-Net architecture with improvements\n",
        "def build_unet(input_shape, num_layers=2):\n",
        "    inputs = Input(input_shape)\n",
        "    x = inputs\n",
        "    down_layers = []\n",
        "    for i in range(num_layers):\n",
        "        x = Conv2D(64 * (2**i), (3, 3), activation='relu', padding='same')(x)\n",
        "        x = BatchNormalization()(x)\n",
        "        x = Conv2D(64 * (2**i), (3, 3), activation='relu', padding='same')(x)\n",
        "        x = BatchNormalization()(x)\n",
        "        if i < num_layers - 1:\n",
        "            x = Dropout(0.5)(x)\n",
        "        down_layers.append(x)\n",
        "        x = MaxPooling2D((2, 2), padding='same')(x)\n",
        "\n",
        "    x = Dropout(0.5)(x)\n",
        "\n",
        "    for i in range(num_layers - 1, -1, -1):\n",
        "        x = UpSampling2D((2, 2))(x)\n",
        "        x = concatenate([x, down_layers[i]])\n",
        "        x = Conv2D(64 * (2**i), (3, 3), activation='relu', padding='same')(x)\n",
        "        x = BatchNormalization()(x)\n",
        "        x = Conv2D(64 * (2**i), (3, 3), activation='relu', padding='same')(x)\n",
        "        x = BatchNormalization()(x)\n",
        "\n",
        "    outputs = Conv2D(1, (1, 1), activation='sigmoid')(x)\n",
        "    return Model(inputs=inputs, outputs=outputs)"
      ],
      "metadata": {
        "id": "696cPufEUGDm"
      },
      "execution_count": 5,
      "outputs": []
    },
    {
      "cell_type": "code",
      "source": [
        "def dice_coef(y_true, y_pred):\n",
        "    smooth = 1e-5\n",
        "    y_true_f = tf.keras.backend.flatten(y_true)\n",
        "    y_pred_f = tf.keras.backend.flatten(y_pred)\n",
        "    intersection = tf.keras.backend.sum(y_true_f * y_pred_f)\n",
        "    return (2. * intersection + smooth) / (tf.keras.backend.sum(y_true_f) + tf.keras.backend.sum(y_pred_f) + smooth)\n",
        "\n",
        "def iou_coef(y_true, y_pred):\n",
        "    smooth = 1e-5\n",
        "    y_true_f = tf.keras.backend.flatten(y_true)\n",
        "    y_pred_f = tf.keras.backend.flatten(y_pred)\n",
        "    intersection = tf.keras.backend.sum(y_true_f * y_pred_f)\n",
        "    union = tf.keras.backend.sum(y_true_f) + tf.keras.backend.sum(y_pred_f) - intersection\n",
        "    return (intersection + smooth) / (union + smooth)\n"
      ],
      "metadata": {
        "id": "eqk-s6VZUGF6"
      },
      "execution_count": 6,
      "outputs": []
    },
    {
      "cell_type": "code",
      "source": [
        "def tversky_loss(y_true, y_pred, alpha=0.5, beta=0.5):\n",
        "    smooth = 1e-5\n",
        "    y_true_f = K.flatten(y_true)\n",
        "    y_pred_f = K.flatten(y_pred)\n",
        "    true_positives = K.sum(y_true_f * y_pred_f)\n",
        "    false_positives = K.sum((1 - y_true_f) * y_pred_f)\n",
        "    false_negatives = K.sum(y_true_f * (1 - y_pred_f))\n",
        "    tversky = (true_positives + smooth) / (true_positives + alpha * false_positives + beta * false_negatives + smooth)\n",
        "    return 1 - K.mean(tversky)"
      ],
      "metadata": {
        "id": "bbUjd0sGVUIf"
      },
      "execution_count": 8,
      "outputs": []
    },
    {
      "cell_type": "code",
      "source": [
        "def resize_images(images, target_height, target_width):\n",
        "    resized_images = []\n",
        "    for img in images:\n",
        "        img = tf.image.resize(img, (target_height, target_width))\n",
        "        resized_images.append(img)\n",
        "    return tf.stack(resized_images)\n",
        "\n",
        "# Resize Training and Test Images\n",
        "target_height = 256  # Update according to your desired image height\n",
        "target_width = 256   # Update according to your desired image width\n",
        "\n",
        "resized_train_images = resize_images(train_images, target_height, target_width)\n",
        "resized_test_images = resize_images(test_images, target_height, target_width)\n",
        "\n",
        "# Resize Training and Test Masks\n",
        "resized_train_masks = resize_images(train_masks, target_height, target_width)\n",
        "resized_test_masks = resize_images(test_masks, target_height, target_width)\n",
        "\n",
        "\n",
        "\n",
        "# Update Input Shape\n",
        "input_shape = (target_height, target_width, 1)\n",
        "\n",
        "# Build and Compile Model\n",
        "model = build_unet(input_shape, num_layers=4)\n",
        "model.compile(optimizer=Adam(learning_rate=0.00000001), loss=tversky_loss, metrics=[dice_coef, iou_coef])\n",
        "\n",
        "# Train Model\n",
        "model.fit(resized_train_images, resized_train_masks, batch_size=8, epochs=10, validation_split=0.1)\n"
      ],
      "metadata": {
        "colab": {
          "base_uri": "https://localhost:8080/"
        },
        "id": "0VXDMVjtUGKN",
        "outputId": "05ab03d3-f90a-4b03-fd29-9d89d4fe9e71"
      },
      "execution_count": 11,
      "outputs": [
        {
          "output_type": "stream",
          "name": "stdout",
          "text": [
            "Epoch 1/10\n",
            "9/9 [==============================] - 17s 697ms/step - loss: 0.1908 - dice_coef: 0.8092 - iou_coef: 0.6796 - val_loss: 0.1956 - val_dice_coef: 0.8044 - val_iou_coef: 0.6728\n",
            "Epoch 2/10\n",
            "9/9 [==============================] - 6s 648ms/step - loss: 0.1894 - dice_coef: 0.8106 - iou_coef: 0.6816 - val_loss: 0.1877 - val_dice_coef: 0.8123 - val_iou_coef: 0.6840\n",
            "Epoch 3/10\n",
            "9/9 [==============================] - 6s 636ms/step - loss: 0.1893 - dice_coef: 0.8107 - iou_coef: 0.6818 - val_loss: 0.1872 - val_dice_coef: 0.8128 - val_iou_coef: 0.6846\n",
            "Epoch 4/10\n",
            "9/9 [==============================] - 6s 659ms/step - loss: 0.1913 - dice_coef: 0.8087 - iou_coef: 0.6789 - val_loss: 0.2102 - val_dice_coef: 0.7898 - val_iou_coef: 0.6526\n",
            "Epoch 5/10\n",
            "9/9 [==============================] - 6s 643ms/step - loss: 0.1893 - dice_coef: 0.8107 - iou_coef: 0.6817 - val_loss: 0.2466 - val_dice_coef: 0.7534 - val_iou_coef: 0.6044\n",
            "Epoch 6/10\n",
            "9/9 [==============================] - 6s 650ms/step - loss: 0.1893 - dice_coef: 0.8107 - iou_coef: 0.6818 - val_loss: 0.2847 - val_dice_coef: 0.7153 - val_iou_coef: 0.5568\n",
            "Epoch 7/10\n",
            "9/9 [==============================] - 6s 659ms/step - loss: 0.1889 - dice_coef: 0.8111 - iou_coef: 0.6822 - val_loss: 0.3185 - val_dice_coef: 0.6815 - val_iou_coef: 0.5168\n",
            "Epoch 8/10\n",
            "9/9 [==============================] - 6s 670ms/step - loss: 0.1877 - dice_coef: 0.8123 - iou_coef: 0.6839 - val_loss: 0.3423 - val_dice_coef: 0.6577 - val_iou_coef: 0.4900\n",
            "Epoch 9/10\n",
            "9/9 [==============================] - 6s 677ms/step - loss: 0.1879 - dice_coef: 0.8121 - iou_coef: 0.6837 - val_loss: 0.3554 - val_dice_coef: 0.6446 - val_iou_coef: 0.4756\n",
            "Epoch 10/10\n",
            "9/9 [==============================] - 6s 685ms/step - loss: 0.1882 - dice_coef: 0.8118 - iou_coef: 0.6833 - val_loss: 0.3598 - val_dice_coef: 0.6402 - val_iou_coef: 0.4708\n"
          ]
        },
        {
          "output_type": "execute_result",
          "data": {
            "text/plain": [
              "<keras.src.callbacks.History at 0x799f0d79b3a0>"
            ]
          },
          "metadata": {},
          "execution_count": 11
        }
      ]
    },
    {
      "cell_type": "code",
      "source": [
        "# Resize Test Images and Masks\n",
        "resized_test_images = resize_images(test_images, target_height, target_width)\n",
        "resized_test_masks = resize_images(test_masks, target_height, target_width)\n",
        "\n",
        "\n",
        "\n",
        "# Predict on Resized Test Images\n",
        "test_preds = model.predict(resized_test_images)\n",
        "\n",
        "# Evaluate on Resized Test Masks\n",
        "dice_score = dice_coef(resized_test_masks, test_preds)\n",
        "iou_score = iou_coef(resized_test_masks, test_preds)\n",
        "\n",
        "print(f\"4 Layers Model - Dice Score: {dice_score}, IoU Score: {iou_score}\")"
      ],
      "metadata": {
        "colab": {
          "base_uri": "https://localhost:8080/"
        },
        "id": "6hfABIZIUGMr",
        "outputId": "115fa436-a2b0-46e1-ba05-86d37025ff98"
      },
      "execution_count": 12,
      "outputs": [
        {
          "output_type": "stream",
          "name": "stdout",
          "text": [
            "1/1 [==============================] - 0s 330ms/step\n",
            "4 Layers Model - Dice Score: 0.5954316258430481, IoU Score: 0.4239250123500824\n"
          ]
        }
      ]
    }
  ]
}